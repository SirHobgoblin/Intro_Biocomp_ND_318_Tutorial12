{
 "cells": [
  {
   "cell_type": "markdown",
   "metadata": {},
   "source": [
    "## Helpful Code"
   ]
  },
  {
   "cell_type": "markdown",
   "metadata": {},
   "source": [
    " -var1 = re.compile(regexstring)  \n",
    " -list1 = [list of strings to search]  \n",
    " -filter(var1.march,list1)"
   ]
  },
  {
   "cell_type": "markdown",
   "metadata": {},
   "source": [
    "# Part 1"
   ]
  },
  {
   "cell_type": "markdown",
   "metadata": {},
   "source": [
    "## Part 1 A - Describe the data set"
   ]
  },
  {
   "cell_type": "markdown",
   "metadata": {},
   "source": [
    "The data set consits of a tab delaminated set of two columns. Column \"0\" is titled weight, and consisit of a random interger value. Column \"1\" is titled feed and is the string \"horsebean\", \"linseed\", \"soybean\", \"sunflower\", \"meatmeal\", and \"casein\". "
   ]
  },
  {
   "cell_type": "markdown",
   "metadata": {},
   "source": [
    "## Part 1 B - Generate a plot that summarizes all of the data. "
   ]
  },
  {
   "cell_type": "code",
   "execution_count": 4,
   "metadata": {},
   "outputs": [
    {
     "data": {
      "image/png": "[encoded data removed]",
      "text/plain": [
       "<matplotlib.figure.Figure at 0x209896125f8>"
      ]
     },
     "metadata": {},
     "output_type": "display_data"
    }
   ],
   "source": [
    "#import packages\n",
    "import os\n",
    "import numpy as np\n",
    "import pandas as pd\n",
    "import matplotlib.pyplot as plt\n",
    "\n",
    "#set working directory\n",
    "#os.chdir('/Users/omneelay/Desktop/Exercise12/Intro_Biocomp_ND_318_Tutorial12/')\n",
    "\n",
    "#read file\n",
    "data=pd.read_csv('chickwts.txt')\n",
    "\n",
    "horsebean_avg=data[['weight']].where(data[['feed']].values=='horsebean').stack().mean()\n",
    "linseed_avg=data[['weight']].where(data[['feed']].values=='linseed').stack().mean()\n",
    "soybean_avg=data[['weight']].where(data[['feed']].values=='soybean').stack().mean()\n",
    "sunflower_avg=data[['weight']].where(data[['feed']].values=='sunflower').stack().mean()\n",
    "meatmeal_avg=data[['weight']].where(data[['feed']].values=='meatmeal').stack().mean()\n",
    "casein_avg=data[['weight']].where(data[['feed']].values=='casein').stack().mean()\n",
    "\n",
    "avg_list=[horsebean_avg,linseed_avg,soybean_avg,sunflower_avg,meatmeal_avg,casein_avg]\n",
    "feed_list=[1,2,3,4,5,6]\n",
    "\n",
    "LABELS = ['horsebean', 'linseed', 'soybean', 'sunflower', 'meatmeal', 'casein']\n",
    "\n",
    "plt.bar(feed_list, avg_list, align='center')\n",
    "plt.xticks(feed_list, LABELS)\n",
    "plt.show()"
   ]
  },
  {
   "cell_type": "markdown",
   "metadata": {},
   "source": [
    "## Part 1 C state a null and alternative hypothesis for differences in chick weight when fed soybean vs. sunflower feed"
   ]
  },
  {
   "cell_type": "markdown",
   "metadata": {},
   "source": [
    "null hypothesis: There is no correlation between the seed type and weight  \n",
    "alternative hypothesis: There is a correlation between seed type and weight.  "
   ]
  },
  {
   "cell_type": "markdown",
   "metadata": {},
   "source": [
    "## Part 1 D: Test the null using a likelihood ratio test"
   ]
  },
  {
   "cell_type": "code",
   "execution_count": null,
   "metadata": {
    "collapsed": true
   },
   "outputs": [],
   "source": []
  },
  {
   "cell_type": "markdown",
   "metadata": {},
   "source": [
    "## Part 1 E: Interprete the results of the likelihood ratio test"
   ]
  },
  {
   "cell_type": "code",
   "execution_count": null,
   "metadata": {
    "collapsed": true
   },
   "outputs": [],
   "source": []
  }
 ],
 "metadata": {
  "kernelspec": {
   "display_name": "Python 3",
   "language": "python",
   "name": "python3"
  },
  "language_info": {
   "codemirror_mode": {
    "name": "ipython",
    "version": 3
   },
   "file_extension": ".py",
   "mimetype": "text/x-python",
   "name": "python",
   "nbconvert_exporter": "python",
   "pygments_lexer": "ipython3",
   "version": "3.6.3"
  }
 },
 "nbformat": 4,
 "nbformat_minor": 2
}
