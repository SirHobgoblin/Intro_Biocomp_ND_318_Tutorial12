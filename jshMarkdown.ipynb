{
 "cells": [
  {
   "cell_type": "markdown",
   "metadata": {},
   "source": [
    "## Helpful Code"
   ]
  },
  {
   "cell_type": "markdown",
   "metadata": {},
   "source": [
    " -var1 = re.compile(regexstring)  \n",
    " -list1 = [list of strings to search]  \n",
    " -filter(var1.march,list1)"
   ]
  },
  {
   "cell_type": "markdown",
   "metadata": {},
   "source": [
    "# Part 1"
   ]
  },
  {
   "cell_type": "markdown",
   "metadata": {},
   "source": [
    "## Part 1 A - Describe the data set"
   ]
  },
  {
   "cell_type": "markdown",
   "metadata": {},
   "source": [
    "The data set consits of a tab delaminated set of two columns. Column \"0\" is titled weight, and consisit of a random interger value. Column \"1\" is titled feed and is the string \"horsebean\", \"linseed\", \"soybean\", \"sunflower\", \"meatmeal\", and \"casein\". "
   ]
  },
  {
   "cell_type": "code",
   "execution_count": null,
   "metadata": {
    "collapsed": true
   },
   "outputs": [],
   "source": []
  }
 ],
 "metadata": {
  "kernelspec": {
   "display_name": "Python 3",
   "language": "python",
   "name": "python3"
  },
  "language_info": {
   "codemirror_mode": {
    "name": "ipython",
    "version": 3
   },
   "file_extension": ".py",
   "mimetype": "text/x-python",
   "name": "python",
   "nbconvert_exporter": "python",
   "pygments_lexer": "ipython3",
   "version": "3.6.3"
  }
 },
 "nbformat": 4,
 "nbformat_minor": 2
}
